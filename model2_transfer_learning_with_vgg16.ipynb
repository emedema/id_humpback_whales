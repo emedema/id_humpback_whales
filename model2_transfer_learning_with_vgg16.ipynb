version https://git-lfs.github.com/spec/v1
oid sha256:358615e9e7a8dd5f2519bf29646d488c4afaf2a57f0d1e29da5385dab9f80a25
size 1189019
